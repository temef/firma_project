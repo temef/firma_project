{
 "cells": [
  {
   "cell_type": "code",
   "execution_count": 1,
   "metadata": {},
   "outputs": [],
   "source": [
    "import datetime as dt\n",
    "import pandas as pd\n",
    "import numpy as np\n",
    "from scipy.stats import norm"
   ]
  },
  {
   "cell_type": "code",
   "execution_count": null,
   "metadata": {},
   "outputs": [],
   "source": [
    "def calculate_delta(S, K, T, t, r, sigma, eps):\n",
    "    d1 = (np.log(S/K) + (r + sigma ** 2 / 2) * (T - t)) / (sigma * np.sqrt(T - t) + eps)\n",
    "    return norm.cdf(d1)"
   ]
  },
  {
   "cell_type": "code",
   "execution_count": null,
   "metadata": {},
   "outputs": [],
   "source": [
    "# Black-Scholes Call Price\n",
    "def black_scholes_call(S, K, T, t, r, sigma, eps):\n",
    "    d1 = (np.log(S/K) + (r + sigma ** 2 / 2) * (T - t)) / (sigma * np.sqrt(T - t) + eps)\n",
    "    d2 = d1 - sigma * np.sqrt(T)\n",
    "    return S * norm.cdf(d1) - K * np.exp(-r * T) * norm.cdf(d2)"
   ]
  },
  {
   "cell_type": "code",
   "execution_count": null,
   "metadata": {},
   "outputs": [],
   "source": [
    "def interval_func(start, end, interval):\n",
    "    result = []\n",
    "    current = start\n",
    "    while current <= end:\n",
    "        result.append(round(current, 4))\n",
    "        current += interval\n",
    "    return result"
   ]
  },
  {
   "cell_type": "code",
   "execution_count": null,
   "metadata": {},
   "outputs": [],
   "source": [
    "def calc_delta(S, K, T, t, r, C_0, eps=np.finfo(float).eps, tol=0.2):\n",
    "\n",
    "    for sigma in interval_func(0, 4, 0.001):\n",
    "        c = black_scholes_call(S=S, K=K, T=T, t=t, r=r, sigma=sigma, eps=eps)\n",
    "        if abs(c-C_0) <= tol:\n",
    "            delta = calculate_delta(S=S, K=K, T=T, t=t, r=r, sigma=sigma, eps=eps)\n",
    "            print(f\"Delta = {delta}, sigma = {sigma} call price from BS = {round(c, 5)}\")\n",
    "            return delta\n",
    "    print(c)\n",
    "    return 0.0"
   ]
  },
  {
   "cell_type": "code",
   "execution_count": null,
   "metadata": {},
   "outputs": [],
   "source": [
    "# Alkuarvot\n",
    "# Data:\n",
    "data = pd.read_feather('firma1.feather')\n",
    "\n",
    "# drop unnecessary three rows as our hedging starting day is 2024-09-10\n",
    "df = data.drop(index=[0,1,2]).reset_index(drop=True)\n",
    "\n",
    "start_date = dt.datetime.strptime(\"2024-09-10\", '%Y-%m-%d')\n",
    "maturity_date = dt.datetime.strptime('2024-10-25', '%Y-%m-%d')\n",
    "\n",
    "# ATM 2024-09-10\n",
    "T = 45/365\n",
    "t = 0\n",
    "K = 105\n",
    "\n",
    "strike = f'C{K}'\n",
    "C_0 = df[strike].iloc[0]\n",
    "S_0 = df['Underlying'].iloc[0]\n",
    "\n",
    "# Risk-free rate is us 30-day treasure bond risk-free rate at 2024-09-10\n",
    "r = 0.0497\n",
    "eps = np.finfo(float).eps\n",
    "delta = calc_delta(S=S_0, K=K, T=T, t=t, r=r, C_0=C_0, eps=np.finfo(float).eps, tol=0.1)\n",
    "print(f\"Delta at S_O= {delta}\")\n",
    "\n",
    "# Hedging interval\n",
    "interval = 2"
   ]
  },
  {
   "cell_type": "code",
   "execution_count": null,
   "metadata": {},
   "outputs": [],
   "source": [
    "\"\"\"\n",
    "We want to re-hedge the portfolio at specific intervals and calculate mean square error E = (1 / n - 1) * SUM_i=1->n-1(A^2)\n",
    "We choose to hedge every second day.\n",
    "Function calculates both OP and RE portfolio values and their difference A_i as the result.\n",
    "Re-hedging is done by calculating new delta values.\n",
    "\n",
    "OP = c_i+1 - c_1\n",
    "RE = delta_i(s_i+1 - s_i)\n",
    "A_i = OP + RE\n",
    "E = (1 / n - 1) * SUM_i=1->n-1(A_i^2)\n",
    "\n",
    "interval = re-hedging interval (days)\n",
    "strike = strike price in format ('C{strike_price}) e.g. 'C105'\n",
    "\"\"\"\n",
    "\n",
    "OP_0 = C_0\n",
    "\n",
    "# delta * S_0\n",
    "RE_0 = delta * S_0\n",
    "\n",
    "\n",
    "\n",
    "def hedging(interval, strike, df):\n",
    "    A_boss = 0\n",
    "    interval_count = 1\n",
    "    c_0 = C_0\n",
    "    c_1 = 0\n",
    "    s_0 = S_0\n",
    "    s_1 = 0\n",
    "    delta = delta\n",
    "    t = 0\n",
    "    n = 0\n",
    "\n",
    "    for _, row in df.iterrows():\n",
    "        c_1 = float(row[strike])\n",
    "        s_1 = float(row['Underlying'])\n",
    "        t = (45 - (maturity_date - row['Date']).days) / 365\n",
    "        \n",
    "        if row.name == 1:\n",
    "            continue\n",
    "\n",
    "        OP = c_1 - c_0\n",
    "\n",
    "        \n",
    "        RE = delta * (s_1-s_0)\n",
    "        A = OP + RE\n",
    "        A_boss += A ** 2\n",
    "        n += 1\n",
    "        \n",
    "        if interval_count % interval == 0:\n",
    "          print(row['Date'].strftime(\"%Y-%m-%d\"))\n",
    "          delta = calc_delta(s_1, K, T, t, r, c_1)\n",
    "          \n",
    "\n",
    "        c_0 = c_1\n",
    "        s_0 = s_1\n",
    "        interval_count += 1\n",
    "\n",
    "    mse = A_boss/(1-n)\n",
    "    \n",
    "    return mse\n",
    "\n"
   ]
  },
  {
   "cell_type": "code",
   "execution_count": null,
   "metadata": {},
   "outputs": [],
   "source": [
    "hedging(interval=interval, strike=strike, df=df)"
   ]
  }
 ],
 "metadata": {
  "kernelspec": {
   "display_name": "base",
   "language": "python",
   "name": "python3"
  },
  "language_info": {
   "codemirror_mode": {
    "name": "ipython",
    "version": 3
   },
   "file_extension": ".py",
   "mimetype": "text/x-python",
   "name": "python",
   "nbconvert_exporter": "python",
   "pygments_lexer": "ipython3",
   "version": "3.11.7"
  }
 },
 "nbformat": 4,
 "nbformat_minor": 2
}
