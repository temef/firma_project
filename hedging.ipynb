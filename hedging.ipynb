{
 "cells": [
  {
   "cell_type": "markdown",
   "metadata": {},
   "source": [
    "## Hedging strategies:\n",
    "\n",
    "- Delta hedging:\n",
    "\n",
    "    $$\\Delta = \\frac{\\partial C^{BS}}{\\partial S} = \\mathcal{N}(d_1)$$\n",
    "\n",
    "    where,\n",
    "    \n",
    "    $\\Delta =$ delta, $C=$ Call Option, $BS=$  Black-Scholes, $S =$ Underlying and $d_1 =$ first term from the Black-Scholes.\n",
    "\n",
    "    Underlying asset = NVDA.O\n",
    "\n",
    "    Maturity Date = 2024-10-25\n",
    "    \n",
    "    T = 45\n",
    "    \n",
    "    Start date = 2024-09-10"
   ]
  },
  {
   "cell_type": "code",
   "execution_count": 11,
   "metadata": {},
   "outputs": [
    {
     "name": "stdout",
     "output_type": "stream",
     "text": [
      "2024-09-10 00:00:00 1\n"
     ]
    }
   ],
   "source": [
    "import datetime as dt\n",
    "import pandas as pd\n",
    "import numpy as np\n",
    "from scipy.stats import norm\n",
    "\n",
    "date = dt.datetime.strptime('2024-10-25', '%Y-%m-%d')\n",
    "t = 45 - (date - dt.datetime.strptime('2024-09-11', '%Y-%m-%d')).days\n",
    "date1 = date - dt.timedelta(days=45)\n",
    "print(date1, t)\n",
    "\n",
    "data = pd.read_feather('firma1.feather')\n",
    "# drop unnecessary three rows as our hedging starting day is 2024-09-10\n",
    "df = data.drop(index=[0,1,2]).reset_index(drop=True)"
   ]
  },
  {
   "cell_type": "code",
   "execution_count": 12,
   "metadata": {},
   "outputs": [],
   "source": [
    "def calculate_delta(S, K, T, t, r, sigma, eps):\n",
    "    d1 = (np.log(S/K) + (r + sigma ** 2 / 2) * (T - t)) / (sigma * np.sqrt(T - t) + eps)\n",
    "    return norm.cdf(d1)"
   ]
  },
  {
   "cell_type": "markdown",
   "metadata": {},
   "source": [
    "$$d_1 = \\frac{\\ln (S/T)+(r+\\sigma^2/2)(T-t)}{\\sigma\\sqrt{T-t}}$$\n",
    "$$d_2 = d_1 - \\sigma \\cdot \\sqrt{T-t}$$"
   ]
  },
  {
   "cell_type": "code",
   "execution_count": 13,
   "metadata": {},
   "outputs": [],
   "source": [
    "# Black-Scholes Call Price\n",
    "def black_scholes_call(S, K, T, t, r, sigma, eps):\n",
    "    d1 = (np.log(S/K) + (r + sigma ** 2 / 2) * (T - t)) / (sigma * np.sqrt(T - t) + eps)\n",
    "    d2 = d1 - sigma * np.sqrt(T)\n",
    "    return S * norm.cdf(d1) - K * np.exp(-r * T) * norm.cdf(d2)"
   ]
  },
  {
   "cell_type": "code",
   "execution_count": 14,
   "metadata": {},
   "outputs": [],
   "source": [
    "def interval_func(start, end, interval):\n",
    "    result = []\n",
    "    current = start\n",
    "    while current <= end:\n",
    "        result.append(round(current, 4))\n",
    "        current += interval\n",
    "    return result\n",
    "\n",
    "#interval_func(0.5, 0.001, 1000)"
   ]
  },
  {
   "cell_type": "code",
   "execution_count": 15,
   "metadata": {},
   "outputs": [],
   "source": [
    "# ATM 2024-09-10\n",
    "T = 45/365\n",
    "C_0 = 10\n",
    "S_0 = 108.1\n",
    "t = 0\n",
    "K = 105\n",
    "# Risk-free rate is us 30-day treasure bond risk-free rate at 2024-09-10\n",
    "r = 0.0497\n",
    "eps = np.finfo(float).eps\n",
    "# sigma = ?"
   ]
  },
  {
   "cell_type": "code",
   "execution_count": 16,
   "metadata": {},
   "outputs": [
    {
     "name": "stdout",
     "output_type": "stream",
     "text": [
      "20.561409619746456\n"
     ]
    }
   ],
   "source": [
    "print(black_scholes_call(S=124.92, K=K, T=T, t=t, r=r, sigma=0, eps=eps))"
   ]
  },
  {
   "cell_type": "code",
   "execution_count": 17,
   "metadata": {},
   "outputs": [],
   "source": [
    "\"\"\"\n",
    "S = Underlying price at the date\n",
    "K = Strike Price\n",
    "T = Time to maturity (years)\n",
    "t = day now\n",
    "interval = re-hedging interval (days)\n",
    "C_= Call price\n",
    "\n",
    "Func finds volatility to the call option and calculates delta\n",
    "\"\"\"\n",
    "\n",
    "def calc_delta(S, K, T, t, r, C_0, eps=np.finfo(float).eps, tol=0.2):\n",
    "\n",
    "    for sigma in interval_func(0, 4, 0.001):\n",
    "        c = black_scholes_call(S=S, K=K, T=T, t=t, r=r, sigma=sigma, eps=eps)\n",
    "        if abs(c-C_0) <= tol:\n",
    "            delta = calculate_delta(S=S, K=K, T=T, t=t, r=r, sigma=sigma, eps=eps)\n",
    "            print(f\"Delta = {delta}, sigma = {sigma} call price from BS = {round(c, 5)}\")\n",
    "            return delta\n",
    "    print(c)\n",
    "    return None\n",
    "\n",
    "#calc_delta(S_0, K, T, t, r, C_0)"
   ]
  },
  {
   "cell_type": "code",
   "execution_count": 18,
   "metadata": {},
   "outputs": [
    {
     "data": {
      "text/plain": [
       "np.float64(10.000999061418113)"
      ]
     },
     "execution_count": 18,
     "metadata": {},
     "output_type": "execute_result"
    }
   ],
   "source": [
    "black_scholes_call(S=S_0, K=K, T=T, t=t, r=r, sigma=0.53789, eps=eps)"
   ]
  },
  {
   "cell_type": "code",
   "execution_count": 19,
   "metadata": {},
   "outputs": [],
   "source": [
    "# ATM 2024-09-10\n",
    "T = 45/365\n",
    "C_0 = 10\n",
    "S_0 = 108.1\n",
    "t = 0\n",
    "K = 105\n",
    "\n",
    "# Risk-free rate is us 30-day treasure bond risk-free rate at 2024-09-10\n",
    "r = 0.0497\n",
    "eps = np.finfo(float).eps\n",
    "sigma = 0.53789"
   ]
  },
  {
   "cell_type": "code",
   "execution_count": 20,
   "metadata": {},
   "outputs": [
    {
     "name": "stdout",
     "output_type": "stream",
     "text": [
      "Delta = 0.610619678591889\n"
     ]
    }
   ],
   "source": [
    "delta = calculate_delta(S=S_0, K=K, T=T, t=t, r=r, sigma=sigma, eps=eps)\n",
    "print(f\"Delta = {delta}\")"
   ]
  },
  {
   "cell_type": "code",
   "execution_count": 28,
   "metadata": {},
   "outputs": [
    {
     "data": {
      "text/plain": [
       "np.float64(66.0079872557832)"
      ]
     },
     "execution_count": 28,
     "metadata": {},
     "output_type": "execute_result"
    }
   ],
   "source": [
    "delta * S_0"
   ]
  },
  {
   "cell_type": "markdown",
   "metadata": {},
   "source": [
    "We have n=45 days to the maturity $t_0=0$. We have one call option with price $C_0 = 10$ on that date 2024-09-10. Then we have another portfolio containing delta amount of underlying asset which is $\\Delta_0 \\cdot S_0 = 0.6073354 \\cdot 108.1 = 65.6530$"
   ]
  },
  {
   "cell_type": "code",
   "execution_count": 22,
   "metadata": {},
   "outputs": [],
   "source": [
    "\"\"\"\n",
    " Now we compute how much the value of the OP and RE changes on each day.\n",
    " OP value change is calculated as C_1 - C_0 where C_0 is value before C_1. Data is stored to the OP_value array in increasing date order\n",
    " as the original data in the firma1.feather\n",
    "\n",
    "\n",
    "\"\"\"\n",
    "\n",
    "c_0 = 0.0\n",
    "OP_value = []\n",
    "\n",
    "for i, row in df.iterrows():\n",
    "    if i == 3:\n",
    "        c_0 = float(row['C105'])\n",
    "        continue\n",
    "\n",
    "    c_1 = float(row['C105'])\n",
    "    c_out = c_1 - c_0\n",
    "\n",
    "    OP_value.append(round(c_out, 4))\n",
    "    c_0 = float(row['C105'])"
   ]
  },
  {
   "cell_type": "code",
   "execution_count": 23,
   "metadata": {},
   "outputs": [],
   "source": [
    "\"\"\"\n",
    " RE value change is calculated as s_1 - s_0 where s_0 is underlying value before s_1. Data is stored to the RE_value array in increasing date order\n",
    " as the original data in the firma1.feather\n",
    "\"\"\"\n",
    "\n",
    "s_0 = 0\n",
    "RE_value = []\n",
    "\n",
    "\n",
    "for i, row in df.iterrows():\n",
    "    if i == 3:\n",
    "        s_0 = float(row['Underlying'])\n",
    "        continue\n",
    "\n",
    "    s_1 = float(row['Underlying'])\n",
    "\n",
    "    s_out = s_1 - s_0\n",
    "    RE_value.append(round(s_out, 4))\n",
    "    s_0 = float(row['Underlying'])"
   ]
  },
  {
   "cell_type": "code",
   "execution_count": 24,
   "metadata": {},
   "outputs": [],
   "source": [
    "# ATM 2024-09-10\n",
    "T = 45/365\n",
    "C_0 = 10\n",
    "S_0 = 108.1\n",
    "t = 0\n",
    "K = 105\n",
    "\n",
    "# Risk-free rate is us 30-day treasure bond risk-free rate at 2024-09-10\n",
    "r = 0.0497\n",
    "eps = np.finfo(float).eps"
   ]
  },
  {
   "cell_type": "code",
   "execution_count": 25,
   "metadata": {},
   "outputs": [],
   "source": [
    "\"\"\"\n",
    "We want to re-hedge the portfolio at specific intervals and calculate mean square error E = (1 / n - 1) * SUM_i=1->n-1(A^2)\n",
    "We choose to hedge every second day.\n",
    "Function calculates both OP and RE portfolio values and their difference A_i as the result.\n",
    "Re-hedging is done by calculating new delta values.\n",
    "\n",
    "OP = c_i+1 - c_1\n",
    "RE = delta_i(s_i+1 - s_i)\n",
    "A_i = OP + RE\n",
    "E = (1 / n - 1) * SUM_i=1->n-1(A_i^2)\n",
    "\n",
    "interval = re-hedging interval (days)\n",
    "strike = strike price in format ('C{strike_price}) e.g. 'C105'\n",
    "\"\"\"\n",
    "\n",
    "OP_0 = C_0\n",
    "\n",
    "# delta * S_0\n",
    "RE_0 = 0.6073354 * S_0\n",
    "\n",
    "maturity_date = dt.datetime.strptime('2024-10-25', '%Y-%m-%d')\n",
    "\n",
    "def hedging(interval, strike, df):\n",
    "    A_boss = 0\n",
    "    interval_count = 1\n",
    "    c_0 = C_0\n",
    "    c_1 = 0\n",
    "    s_0 = S_0\n",
    "    s_1 = 0\n",
    "    delta = 0.6073354\n",
    "    t = 0\n",
    "    n = 0\n",
    "\n",
    "    for _, row in df.iterrows():\n",
    "        c_1 = float(row[strike])\n",
    "        s_1 = float(row['Underlying'])\n",
    "        t = (45 - (maturity_date - row['Date']).days) / 365\n",
    "        \n",
    "        if row.name == 1:\n",
    "            continue\n",
    "\n",
    "        OP = c_1 - c_0\n",
    "\n",
    "        \n",
    "        RE = delta * (s_1-s_0)\n",
    "        A = OP + RE\n",
    "        A_boss += A ** 2\n",
    "        n += 1\n",
    "        \n",
    "        if interval_count % interval == 0:\n",
    "          print(row['Date'].strftime(\"%Y-%m-%d\"))\n",
    "          delta = calc_delta(s_1, K, T, t, r, c_1)\n",
    "          \n",
    "\n",
    "        c_0 = c_1\n",
    "        s_0 = s_1\n",
    "        interval_count += 1\n",
    "\n",
    "    mse = A_boss/(1-n)\n",
    "    \n",
    "    return mse\n",
    "\n"
   ]
  },
  {
   "cell_type": "code",
   "execution_count": 26,
   "metadata": {},
   "outputs": [
    {
     "name": "stdout",
     "output_type": "stream",
     "text": [
      "2024-09-12\n"
     ]
    },
    {
     "name": "stdout",
     "output_type": "stream",
     "text": [
      "Delta = 0.781294871618629, sigma = 0.567 call price from BS = 18.13369\n",
      "2024-09-16\n",
      "Delta = 0.7796114652750301, sigma = 0.495 call price from BS = 15.40689\n",
      "2024-09-18\n",
      "Delta = 0.7436559904139446, sigma = 0.439 call price from BS = 12.12932\n",
      "2024-09-20\n",
      "Delta = 0.8257215404056265, sigma = 0.384 call price from BS = 13.4567\n",
      "2024-09-24\n",
      "Delta = 0.9096599957820639, sigma = 0.388 call price from BS = 17.55138\n",
      "2024-09-26\n",
      "Delta = 0.9575444103917264, sigma = 0.362 call price from BS = 20.18315\n",
      "2024-09-30\n",
      "Delta = 0.9835944639469222, sigma = 0.271 call price from BS = 17.25074\n",
      "2024-10-02\n",
      "Delta = 0.9171607973508984, sigma = 0.378 call price from BS = 15.60487\n",
      "2024-10-04\n",
      "Delta = 1.0, sigma = 0 call price from BS = 20.56141\n",
      "2024-10-08\n",
      "75.69407241120491\n"
     ]
    },
    {
     "ename": "TypeError",
     "evalue": "unsupported operand type(s) for *: 'NoneType' and 'float'",
     "output_type": "error",
     "traceback": [
      "\u001b[1;31m---------------------------------------------------------------------------\u001b[0m",
      "\u001b[1;31mTypeError\u001b[0m                                 Traceback (most recent call last)",
      "Cell \u001b[1;32mIn[26], line 1\u001b[0m\n\u001b[1;32m----> 1\u001b[0m \u001b[43mhedging\u001b[49m\u001b[43m(\u001b[49m\u001b[43minterval\u001b[49m\u001b[38;5;241;43m=\u001b[39;49m\u001b[38;5;241;43m2\u001b[39;49m\u001b[43m,\u001b[49m\u001b[43m \u001b[49m\u001b[43mstrike\u001b[49m\u001b[38;5;241;43m=\u001b[39;49m\u001b[38;5;124;43m'\u001b[39;49m\u001b[38;5;124;43mC105\u001b[39;49m\u001b[38;5;124;43m'\u001b[39;49m\u001b[43m,\u001b[49m\u001b[43m \u001b[49m\u001b[43mdf\u001b[49m\u001b[38;5;241;43m=\u001b[39;49m\u001b[43mdf\u001b[49m\u001b[43m)\u001b[49m\n",
      "Cell \u001b[1;32mIn[25], line 45\u001b[0m, in \u001b[0;36mhedging\u001b[1;34m(interval, strike, df)\u001b[0m\n\u001b[0;32m     40\u001b[0m     \u001b[38;5;28;01mcontinue\u001b[39;00m\n\u001b[0;32m     42\u001b[0m OP \u001b[38;5;241m=\u001b[39m c_1 \u001b[38;5;241m-\u001b[39m c_0\n\u001b[1;32m---> 45\u001b[0m RE \u001b[38;5;241m=\u001b[39m \u001b[43mdelta\u001b[49m\u001b[43m \u001b[49m\u001b[38;5;241;43m*\u001b[39;49m\u001b[43m \u001b[49m\u001b[43m(\u001b[49m\u001b[43ms_1\u001b[49m\u001b[38;5;241;43m-\u001b[39;49m\u001b[43ms_0\u001b[49m\u001b[43m)\u001b[49m\n\u001b[0;32m     46\u001b[0m A \u001b[38;5;241m=\u001b[39m OP \u001b[38;5;241m+\u001b[39m RE\n\u001b[0;32m     47\u001b[0m A_boss \u001b[38;5;241m+\u001b[39m\u001b[38;5;241m=\u001b[39m A \u001b[38;5;241m*\u001b[39m\u001b[38;5;241m*\u001b[39m \u001b[38;5;241m2\u001b[39m\n",
      "\u001b[1;31mTypeError\u001b[0m: unsupported operand type(s) for *: 'NoneType' and 'float'"
     ]
    }
   ],
   "source": [
    "hedging(interval=2, strike='C105', df=df)"
   ]
  }
 ],
 "metadata": {
  "kernelspec": {
   "display_name": "Python 3",
   "language": "python",
   "name": "python3"
  },
  "language_info": {
   "codemirror_mode": {
    "name": "ipython",
    "version": 3
   },
   "file_extension": ".py",
   "mimetype": "text/x-python",
   "name": "python",
   "nbconvert_exporter": "python",
   "pygments_lexer": "ipython3",
   "version": "3.13.0"
  }
 },
 "nbformat": 4,
 "nbformat_minor": 2
}
